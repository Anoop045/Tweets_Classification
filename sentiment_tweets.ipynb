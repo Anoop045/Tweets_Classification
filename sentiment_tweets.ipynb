{
  "nbformat": 4,
  "nbformat_minor": 0,
  "metadata": {
    "colab": {
      "provenance": []
    },
    "kernelspec": {
      "name": "python3",
      "display_name": "Python 3"
    },
    "language_info": {
      "name": "python"
    }
  },
  "cells": [
    {
      "cell_type": "code",
      "source": [
        "#Importing required libraries\n",
        "import pandas as pd\n",
        "import numpy as np\n",
        "import seaborn as sns\n",
        "import matplotlib.pyplot as plt\n",
        "import re\n",
        "from sklearn.model_selection import train_test_split\n",
        "from sklearn.metrics import plot_confusion_matrix,f1_score,precision_score,recall_score"
      ],
      "metadata": {
        "id": "naCcJa4wky01"
      },
      "execution_count": 117,
      "outputs": []
    },
    {
      "cell_type": "markdown",
      "source": [
        "Importing libraries required for text preprocessing"
      ],
      "metadata": {
        "id": "7yJUkGbmeK6b"
      }
    },
    {
      "cell_type": "code",
      "source": [
        "import nltk\n",
        "from nltk.tokenize import word_tokenize\n",
        "from nltk.corpus import stopwords\n",
        "from nltk.stem import PorterStemmer\n",
        "from nltk.stem import WordNetLemmatizer\n",
        "from sklearn.feature_extraction.text import TfidfVectorizer"
      ],
      "metadata": {
        "id": "R9SQV5BdeGdJ"
      },
      "execution_count": 118,
      "outputs": []
    },
    {
      "cell_type": "code",
      "source": [
        "nltk.download('all')"
      ],
      "metadata": {
        "id": "C5L_BZw33Hnt"
      },
      "execution_count": null,
      "outputs": []
    },
    {
      "cell_type": "code",
      "source": [
        "data=pd.read_csv('/content/sentiment_tweets3.csv')"
      ],
      "metadata": {
        "id": "aaNOo6YzgpEw"
      },
      "execution_count": 120,
      "outputs": []
    },
    {
      "cell_type": "code",
      "source": [
        "data.shape"
      ],
      "metadata": {
        "colab": {
          "base_uri": "https://localhost:8080/"
        },
        "id": "WxAPZJt_g2LV",
        "outputId": "476254de-a9e9-402b-adac-3e8a209f3cb5"
      },
      "execution_count": 121,
      "outputs": [
        {
          "output_type": "execute_result",
          "data": {
            "text/plain": [
              "(10314, 3)"
            ]
          },
          "metadata": {},
          "execution_count": 121
        }
      ]
    },
    {
      "cell_type": "code",
      "source": [
        "data.head()"
      ],
      "metadata": {
        "colab": {
          "base_uri": "https://localhost:8080/",
          "height": 206
        },
        "id": "2J3mSroMg6cX",
        "outputId": "6ea1bb8b-df5d-44aa-f654-0d74eebe6a55"
      },
      "execution_count": 122,
      "outputs": [
        {
          "output_type": "execute_result",
          "data": {
            "text/plain": [
              "   Index                                 message to examine  \\\n",
              "0    106  just had a real good moment. i missssssssss hi...   \n",
              "1    217         is reading manga  http://plurk.com/p/mzp1e   \n",
              "2    220  @comeagainjen http://twitpic.com/2y2lx - http:...   \n",
              "3    288  @lapcat Need to send 'em to my accountant tomo...   \n",
              "4    540      ADD ME ON MYSPACE!!!  myspace.com/LookThunder   \n",
              "\n",
              "   label (depression result)  \n",
              "0                          0  \n",
              "1                          0  \n",
              "2                          0  \n",
              "3                          0  \n",
              "4                          0  "
            ],
            "text/html": [
              "\n",
              "  <div id=\"df-8c5b9352-a2bc-489f-bd78-64143a2a887f\">\n",
              "    <div class=\"colab-df-container\">\n",
              "      <div>\n",
              "<style scoped>\n",
              "    .dataframe tbody tr th:only-of-type {\n",
              "        vertical-align: middle;\n",
              "    }\n",
              "\n",
              "    .dataframe tbody tr th {\n",
              "        vertical-align: top;\n",
              "    }\n",
              "\n",
              "    .dataframe thead th {\n",
              "        text-align: right;\n",
              "    }\n",
              "</style>\n",
              "<table border=\"1\" class=\"dataframe\">\n",
              "  <thead>\n",
              "    <tr style=\"text-align: right;\">\n",
              "      <th></th>\n",
              "      <th>Index</th>\n",
              "      <th>message to examine</th>\n",
              "      <th>label (depression result)</th>\n",
              "    </tr>\n",
              "  </thead>\n",
              "  <tbody>\n",
              "    <tr>\n",
              "      <th>0</th>\n",
              "      <td>106</td>\n",
              "      <td>just had a real good moment. i missssssssss hi...</td>\n",
              "      <td>0</td>\n",
              "    </tr>\n",
              "    <tr>\n",
              "      <th>1</th>\n",
              "      <td>217</td>\n",
              "      <td>is reading manga  http://plurk.com/p/mzp1e</td>\n",
              "      <td>0</td>\n",
              "    </tr>\n",
              "    <tr>\n",
              "      <th>2</th>\n",
              "      <td>220</td>\n",
              "      <td>@comeagainjen http://twitpic.com/2y2lx - http:...</td>\n",
              "      <td>0</td>\n",
              "    </tr>\n",
              "    <tr>\n",
              "      <th>3</th>\n",
              "      <td>288</td>\n",
              "      <td>@lapcat Need to send 'em to my accountant tomo...</td>\n",
              "      <td>0</td>\n",
              "    </tr>\n",
              "    <tr>\n",
              "      <th>4</th>\n",
              "      <td>540</td>\n",
              "      <td>ADD ME ON MYSPACE!!!  myspace.com/LookThunder</td>\n",
              "      <td>0</td>\n",
              "    </tr>\n",
              "  </tbody>\n",
              "</table>\n",
              "</div>\n",
              "      <button class=\"colab-df-convert\" onclick=\"convertToInteractive('df-8c5b9352-a2bc-489f-bd78-64143a2a887f')\"\n",
              "              title=\"Convert this dataframe to an interactive table.\"\n",
              "              style=\"display:none;\">\n",
              "        \n",
              "  <svg xmlns=\"http://www.w3.org/2000/svg\" height=\"24px\"viewBox=\"0 0 24 24\"\n",
              "       width=\"24px\">\n",
              "    <path d=\"M0 0h24v24H0V0z\" fill=\"none\"/>\n",
              "    <path d=\"M18.56 5.44l.94 2.06.94-2.06 2.06-.94-2.06-.94-.94-2.06-.94 2.06-2.06.94zm-11 1L8.5 8.5l.94-2.06 2.06-.94-2.06-.94L8.5 2.5l-.94 2.06-2.06.94zm10 10l.94 2.06.94-2.06 2.06-.94-2.06-.94-.94-2.06-.94 2.06-2.06.94z\"/><path d=\"M17.41 7.96l-1.37-1.37c-.4-.4-.92-.59-1.43-.59-.52 0-1.04.2-1.43.59L10.3 9.45l-7.72 7.72c-.78.78-.78 2.05 0 2.83L4 21.41c.39.39.9.59 1.41.59.51 0 1.02-.2 1.41-.59l7.78-7.78 2.81-2.81c.8-.78.8-2.07 0-2.86zM5.41 20L4 18.59l7.72-7.72 1.47 1.35L5.41 20z\"/>\n",
              "  </svg>\n",
              "      </button>\n",
              "      \n",
              "  <style>\n",
              "    .colab-df-container {\n",
              "      display:flex;\n",
              "      flex-wrap:wrap;\n",
              "      gap: 12px;\n",
              "    }\n",
              "\n",
              "    .colab-df-convert {\n",
              "      background-color: #E8F0FE;\n",
              "      border: none;\n",
              "      border-radius: 50%;\n",
              "      cursor: pointer;\n",
              "      display: none;\n",
              "      fill: #1967D2;\n",
              "      height: 32px;\n",
              "      padding: 0 0 0 0;\n",
              "      width: 32px;\n",
              "    }\n",
              "\n",
              "    .colab-df-convert:hover {\n",
              "      background-color: #E2EBFA;\n",
              "      box-shadow: 0px 1px 2px rgba(60, 64, 67, 0.3), 0px 1px 3px 1px rgba(60, 64, 67, 0.15);\n",
              "      fill: #174EA6;\n",
              "    }\n",
              "\n",
              "    [theme=dark] .colab-df-convert {\n",
              "      background-color: #3B4455;\n",
              "      fill: #D2E3FC;\n",
              "    }\n",
              "\n",
              "    [theme=dark] .colab-df-convert:hover {\n",
              "      background-color: #434B5C;\n",
              "      box-shadow: 0px 1px 3px 1px rgba(0, 0, 0, 0.15);\n",
              "      filter: drop-shadow(0px 1px 2px rgba(0, 0, 0, 0.3));\n",
              "      fill: #FFFFFF;\n",
              "    }\n",
              "  </style>\n",
              "\n",
              "      <script>\n",
              "        const buttonEl =\n",
              "          document.querySelector('#df-8c5b9352-a2bc-489f-bd78-64143a2a887f button.colab-df-convert');\n",
              "        buttonEl.style.display =\n",
              "          google.colab.kernel.accessAllowed ? 'block' : 'none';\n",
              "\n",
              "        async function convertToInteractive(key) {\n",
              "          const element = document.querySelector('#df-8c5b9352-a2bc-489f-bd78-64143a2a887f');\n",
              "          const dataTable =\n",
              "            await google.colab.kernel.invokeFunction('convertToInteractive',\n",
              "                                                     [key], {});\n",
              "          if (!dataTable) return;\n",
              "\n",
              "          const docLinkHtml = 'Like what you see? Visit the ' +\n",
              "            '<a target=\"_blank\" href=https://colab.research.google.com/notebooks/data_table.ipynb>data table notebook</a>'\n",
              "            + ' to learn more about interactive tables.';\n",
              "          element.innerHTML = '';\n",
              "          dataTable['output_type'] = 'display_data';\n",
              "          await google.colab.output.renderOutput(dataTable, element);\n",
              "          const docLink = document.createElement('div');\n",
              "          docLink.innerHTML = docLinkHtml;\n",
              "          element.appendChild(docLink);\n",
              "        }\n",
              "      </script>\n",
              "    </div>\n",
              "  </div>\n",
              "  "
            ]
          },
          "metadata": {},
          "execution_count": 122
        }
      ]
    },
    {
      "cell_type": "markdown",
      "source": [
        "Plotting the number of tweets based on value of depression (0-not depressed,1-depressed)"
      ],
      "metadata": {
        "id": "94OHIXlPecOn"
      }
    },
    {
      "cell_type": "code",
      "source": [
        "sns.countplot(data['label (depression result)']);"
      ],
      "metadata": {
        "colab": {
          "base_uri": "https://localhost:8080/",
          "height": 334
        },
        "id": "XpKD9DRuTbqJ",
        "outputId": "4e9a5c7a-f246-4d8b-b23a-705af17958ee"
      },
      "execution_count": 123,
      "outputs": [
        {
          "output_type": "stream",
          "name": "stderr",
          "text": [
            "/usr/local/lib/python3.8/dist-packages/seaborn/_decorators.py:36: FutureWarning: Pass the following variable as a keyword arg: x. From version 0.12, the only valid positional argument will be `data`, and passing other arguments without an explicit keyword will result in an error or misinterpretation.\n",
            "  warnings.warn(\n"
          ]
        },
        {
          "output_type": "display_data",
          "data": {
            "text/plain": [
              "<Figure size 432x288 with 1 Axes>"
            ],
            "image/png": "[encoded data removed]"
          },
          "metadata": {
            "needs_background": "light"
          }
        }
      ]
    },
    {
      "cell_type": "code",
      "source": [
        "data.columns"
      ],
      "metadata": {
        "colab": {
          "base_uri": "https://localhost:8080/"
        },
        "id": "Cw97kZVSg9uB",
        "outputId": "2890648b-4bec-43b2-f99b-787060848c4a"
      },
      "execution_count": 124,
      "outputs": [
        {
          "output_type": "execute_result",
          "data": {
            "text/plain": [
              "Index(['Index', 'message to examine', 'label (depression result)'], dtype='object')"
            ]
          },
          "metadata": {},
          "execution_count": 124
        }
      ]
    },
    {
      "cell_type": "code",
      "source": [
        "data.info()"
      ],
      "metadata": {
        "colab": {
          "base_uri": "https://localhost:8080/"
        },
        "id": "YA_GPEkehDr8",
        "outputId": "310b5726-fef7-4a89-96a5-000391e1757f"
      },
      "execution_count": 125,
      "outputs": [
        {
          "output_type": "stream",
          "name": "stdout",
          "text": [
            "<class 'pandas.core.frame.DataFrame'>\n",
            "RangeIndex: 10314 entries, 0 to 10313\n",
            "Data columns (total 3 columns):\n",
            " #   Column                     Non-Null Count  Dtype \n",
            "---  ------                     --------------  ----- \n",
            " 0   Index                      10314 non-null  int64 \n",
            " 1   message to examine         10314 non-null  object\n",
            " 2   label (depression result)  10314 non-null  int64 \n",
            "dtypes: int64(2), object(1)\n",
            "memory usage: 241.9+ KB\n"
          ]
        }
      ]
    },
    {
      "cell_type": "code",
      "source": [],
      "metadata": {
        "id": "4dcexcEQdDZ5"
      },
      "execution_count": 125,
      "outputs": []
    },
    {
      "cell_type": "markdown",
      "source": [
        "#Text Preprocessing"
      ],
      "metadata": {
        "id": "T1fCF8S-dE0y"
      }
    },
    {
      "cell_type": "code",
      "source": [
        "sw=stopwords.words('english')\n",
        "porter=PorterStemmer()\n",
        "lemm=WordNetLemmatizer()"
      ],
      "metadata": {
        "id": "jdPffBwuhhq9"
      },
      "execution_count": 126,
      "outputs": []
    },
    {
      "cell_type": "code",
      "source": [
        "def urls_ats(content):\n",
        "  final= re.sub(r\"http\\S+\", \" \", content)\n",
        "  final= re.sub(r\"@\\S+\",\" \",final)\n",
        "  return final"
      ],
      "metadata": {
        "id": "QQqpQvX_uY6i"
      },
      "execution_count": 127,
      "outputs": []
    },
    {
      "cell_type": "code",
      "source": [
        "def processed(content):\n",
        "  processed_content=re.sub(\"[^a-zA-Z]\",\" \",content)\n",
        "  processed_content=processed_content.lower()\n",
        "  processed_content=processed_content.split()\n",
        "  processed_content= [porter.stem(word) for word in processed_content if not word in sw] #Stemming and stopwords removal\n",
        "  processed_content = [lemm.lemmatize(word) for word in processed_content]  #lemmatizing\n",
        "  processed_content=' '.join(processed_content)\n",
        "  return processed_content\n",
        "  "
      ],
      "metadata": {
        "id": "bXmzXSEFwT7i"
      },
      "execution_count": 128,
      "outputs": []
    },
    {
      "cell_type": "code",
      "source": [
        "data['message to examine']=data['message to examine'].apply(urls_ats)\n",
        "data['message to examine']=data['message to examine'].apply(processed)"
      ],
      "metadata": {
        "id": "_XFBfZJIu5B4"
      },
      "execution_count": 129,
      "outputs": []
    },
    {
      "cell_type": "code",
      "source": [
        "data['message to examine']"
      ],
      "metadata": {
        "colab": {
          "base_uri": "https://localhost:8080/"
        },
        "id": "Agm_akYFyObT",
        "outputId": "4131d40f-e9d0-4525-eda3-937e3ff80683"
      },
      "execution_count": 130,
      "outputs": [
        {
          "output_type": "execute_result",
          "data": {
            "text/plain": [
              "0                               real good moment miss much\n",
              "1                                               read manga\n",
              "2                                                         \n",
              "3        need send em account tomorrow oddli even refer...\n",
              "4                          add myspac myspac com lookthund\n",
              "                               ...                        \n",
              "10309        depress g herbo mood done stress peopl deserv\n",
              "10310    depress succumb brain make feel like never enough\n",
              "10311    ketamin nasal spray show promis depress suicid...\n",
              "10312               dont mistak bad day depress everyon em\n",
              "10313                                                     \n",
              "Name: message to examine, Length: 10314, dtype: object"
            ]
          },
          "metadata": {},
          "execution_count": 130
        }
      ]
    },
    {
      "cell_type": "code",
      "source": [
        "X=data['message to examine'].values\n",
        "y=data['label (depression result)'].values"
      ],
      "metadata": {
        "id": "CALLbzr6zuJx"
      },
      "execution_count": 131,
      "outputs": []
    },
    {
      "cell_type": "markdown",
      "source": [
        "#Vectorization"
      ],
      "metadata": {
        "id": "pB83enPpz0jx"
      }
    },
    {
      "cell_type": "code",
      "source": [
        "tfidf=TfidfVectorizer()\n",
        "tfidf.fit(X)\n",
        "X=tfidf.transform(X)"
      ],
      "metadata": {
        "id": "yyygrDLx0pGL"
      },
      "execution_count": 132,
      "outputs": []
    },
    {
      "cell_type": "markdown",
      "source": [
        "#Splitting the data"
      ],
      "metadata": {
        "id": "I9y3AK3gyz2G"
      }
    },
    {
      "cell_type": "code",
      "source": [
        "X_train,X_test,y_train,y_test = train_test_split(X,y,test_size=0.2,random_state=0)"
      ],
      "metadata": {
        "id": "c_os9IKE0pLc"
      },
      "execution_count": 133,
      "outputs": []
    },
    {
      "cell_type": "code",
      "source": [
        "from sklearn.naive_bayes import MultinomialNB\n",
        "from sklearn.linear_model import LogisticRegression\n",
        "from sklearn.svm import SVC\n",
        "from sklearn.tree import DecisionTreeClassifier\n",
        "from  sklearn.ensemble import RandomForestClassifier,GradientBoostingClassifier\n"
      ],
      "metadata": {
        "id": "IBEmVhsd4-oS"
      },
      "execution_count": 134,
      "outputs": []
    },
    {
      "cell_type": "code",
      "source": [
        "mnb=MultinomialNB()\n",
        "logreg=LogisticRegression()\n",
        "svc=SVC()\n",
        "dtc =  DecisionTreeClassifier()\n",
        "gbc=GradientBoostingClassifier()\n",
        "rfc= RandomForestClassifier()"
      ],
      "metadata": {
        "id": "9LJ_lCRWYfw9"
      },
      "execution_count": 135,
      "outputs": []
    },
    {
      "cell_type": "code",
      "source": [
        "mnb.fit(X_train,y_train)\n",
        "logreg.fit(X_train,y_train)\n",
        "svc.fit(X_train,y_train)\n",
        "dtc.fit(X_train,y_train)\n",
        "rfc.fit(X_train,y_train)\n",
        "gbc.fit(X_train,y_train)"
      ],
      "metadata": {
        "colab": {
          "base_uri": "https://localhost:8080/"
        },
        "id": "QDjIvHn-Y8si",
        "outputId": "48848e7f-b48b-4762-ac29-bb416bf4c465"
      },
      "execution_count": 136,
      "outputs": [
        {
          "output_type": "execute_result",
          "data": {
            "text/plain": [
              "GradientBoostingClassifier()"
            ]
          },
          "metadata": {},
          "execution_count": 136
        }
      ]
    },
    {
      "cell_type": "code",
      "source": [
        "mt1=mnb.score(X_train,y_train)\n",
        "mt2=logreg.score(X_train,y_train)\n",
        "mt3=svc.score(X_train,y_train)\n",
        "mt4=dtc.score(X_train,y_train)\n",
        "mt5=rfc.score(X_train,y_train)\n",
        "mt6=gbc.score(X_train,y_train)\n",
        "train=[mt1,mt2,mt3,mt4,mt5,mt6]\n",
        "train"
      ],
      "metadata": {
        "colab": {
          "base_uri": "https://localhost:8080/"
        },
        "id": "kj0qV0E5aAqY",
        "outputId": "71af98a1-dbca-481e-b435-121b787626bb"
      },
      "execution_count": 137,
      "outputs": [
        {
          "output_type": "execute_result",
          "data": {
            "text/plain": [
              "[0.9449763665010302,\n",
              " 0.9924857593019027,\n",
              " 0.9990304205550843,\n",
              " 0.9995152102775421,\n",
              " 0.9995152102775421,\n",
              " 0.9995152102775421]"
            ]
          },
          "metadata": {},
          "execution_count": 137
        }
      ]
    },
    {
      "cell_type": "code",
      "source": [
        "m1=mnb.score(X_test,y_test)\n",
        "m2=logreg.score(X_test,y_test)\n",
        "m3=svc.score(X_test,y_test)\n",
        "m4=dtc.score(X_test,y_test)\n",
        "m5=rfc.score(X_test,y_test)\n",
        "m6=gbc.score(X_test,y_test)\n",
        "test=[m1,m2,m3,m4,m5,m6]\n",
        "test"
      ],
      "metadata": {
        "colab": {
          "base_uri": "https://localhost:8080/"
        },
        "id": "wHNnNl5G0pO3",
        "outputId": "bf32f0d7-1872-401e-84cb-5484d4a80816"
      },
      "execution_count": 138,
      "outputs": [
        {
          "output_type": "execute_result",
          "data": {
            "text/plain": [
              "[0.9132331555986427,\n",
              " 0.9815802229762481,\n",
              " 0.9922443044110518,\n",
              " 0.9961221522055259,\n",
              " 0.9970916141541445,\n",
              " 0.9961221522055259]"
            ]
          },
          "metadata": {},
          "execution_count": 138
        }
      ]
    },
    {
      "cell_type": "code",
      "source": [
        "plt.plot(train,linestyle='dashed',label='train',marker='x')\n",
        "plt.plot(test,linestyle='dashdot',label='test',marker='*')\n",
        "plt.legend()\n",
        "plt.show()"
      ],
      "metadata": {
        "colab": {
          "base_uri": "https://localhost:8080/",
          "height": 265
        },
        "id": "T546-JUYZ0Ch",
        "outputId": "3d3dad98-5ea8-4409-9494-d3a1ba0bd911"
      },
      "execution_count": 139,
      "outputs": [
        {
          "output_type": "display_data",
          "data": {
            "text/plain": [
              "<Figure size 432x288 with 1 Axes>"
            ],
            "image/png": "[encoded data removed]"
          },
          "metadata": {
            "needs_background": "light"
          }
        }
      ]
    },
    {
      "cell_type": "code",
      "source": [
        "final_model=GradientBoostingClassifier()\n",
        "final_model.fit(X_train,y_train)\n",
        "y_pred_final=final_model.predict(X_test)"
      ],
      "metadata": {
        "id": "EM67uBCO3ayI"
      },
      "execution_count": 140,
      "outputs": []
    },
    {
      "cell_type": "markdown",
      "source": [
        "#Model accuracies"
      ],
      "metadata": {
        "id": "qgiLIT1J4kOL"
      }
    },
    {
      "cell_type": "code",
      "source": [
        "final_model.score(X_train,y_train)"
      ],
      "metadata": {
        "colab": {
          "base_uri": "https://localhost:8080/"
        },
        "id": "Mh7PgZM74CiG",
        "outputId": "d0337e92-64d4-494c-8073-a967a61763eb"
      },
      "execution_count": 141,
      "outputs": [
        {
          "output_type": "execute_result",
          "data": {
            "text/plain": [
              "0.9995152102775421"
            ]
          },
          "metadata": {},
          "execution_count": 141
        }
      ]
    },
    {
      "cell_type": "code",
      "source": [
        "final_model.score(X_test,y_test)"
      ],
      "metadata": {
        "colab": {
          "base_uri": "https://localhost:8080/"
        },
        "id": "-X6XMqe336iD",
        "outputId": "e3964d99-40aa-4c95-ed5b-9248e750cd02"
      },
      "execution_count": 142,
      "outputs": [
        {
          "output_type": "execute_result",
          "data": {
            "text/plain": [
              "0.9961221522055259"
            ]
          },
          "metadata": {},
          "execution_count": 142
        }
      ]
    },
    {
      "cell_type": "code",
      "source": [],
      "metadata": {
        "id": "l1WP00PB4CoH"
      },
      "execution_count": 142,
      "outputs": []
    },
    {
      "cell_type": "markdown",
      "source": [
        "#F1_score"
      ],
      "metadata": {
        "id": "X221w4bJ4gdy"
      }
    },
    {
      "cell_type": "code",
      "source": [
        "precision=precision_score(y_test, y_pred_final,pos_label='positive',average='micro')\n",
        "recall=recall_score(y_test, y_pred_final,pos_label='positive',average='micro')\n",
        "f1_score=(2*precision*recall)/(precision+recall)\n",
        "f1_score"
      ],
      "metadata": {
        "colab": {
          "base_uri": "https://localhost:8080/"
        },
        "id": "d1DoWy4k2pcq",
        "outputId": "e783fbe1-cc9e-4500-89e1-5fb220cd92be"
      },
      "execution_count": 143,
      "outputs": [
        {
          "output_type": "stream",
          "name": "stderr",
          "text": [
            "/usr/local/lib/python3.8/dist-packages/sklearn/metrics/_classification.py:1370: UserWarning: Note that pos_label (set to 'positive') is ignored when average != 'binary' (got 'micro'). You may use labels=[pos_label] to specify a single positive class.\n",
            "  warnings.warn(\n",
            "/usr/local/lib/python3.8/dist-packages/sklearn/metrics/_classification.py:1370: UserWarning: Note that pos_label (set to 'positive') is ignored when average != 'binary' (got 'micro'). You may use labels=[pos_label] to specify a single positive class.\n",
            "  warnings.warn(\n"
          ]
        },
        {
          "output_type": "execute_result",
          "data": {
            "text/plain": [
              "0.9961221522055259"
            ]
          },
          "metadata": {},
          "execution_count": 143
        }
      ]
    },
    {
      "cell_type": "markdown",
      "source": [
        "#Confusion matrix"
      ],
      "metadata": {
        "id": "ZXvRoIg54ceQ"
      }
    },
    {
      "cell_type": "code",
      "source": [
        "plot_confusion_matrix(final_model,X_test,y_test);  #label-0 = no depression , label-1 = depression"
      ],
      "metadata": {
        "colab": {
          "base_uri": "https://localhost:8080/",
          "height": 334
        },
        "id": "Kff00asx3ZZV",
        "outputId": "ed5ce49f-5f97-49fa-f6c3-781f79057fbc"
      },
      "execution_count": 144,
      "outputs": [
        {
          "output_type": "stream",
          "name": "stderr",
          "text": [
            "/usr/local/lib/python3.8/dist-packages/sklearn/utils/deprecation.py:87: FutureWarning: Function plot_confusion_matrix is deprecated; Function `plot_confusion_matrix` is deprecated in 1.0 and will be removed in 1.2. Use one of the class methods: ConfusionMatrixDisplay.from_predictions or ConfusionMatrixDisplay.from_estimator.\n",
            "  warnings.warn(msg, category=FutureWarning)\n"
          ]
        },
        {
          "output_type": "display_data",
          "data": {
            "text/plain": [
              "<Figure size 432x288 with 2 Axes>"
            ],
            "image/png": "[encoded data removed]"
          },
          "metadata": {
            "needs_background": "light"
          }
        }
      ]
    },
    {
      "cell_type": "code",
      "source": [],
      "metadata": {
        "id": "uj4a2-R6p5V0"
      },
      "execution_count": 144,
      "outputs": []
    }
  ]
}